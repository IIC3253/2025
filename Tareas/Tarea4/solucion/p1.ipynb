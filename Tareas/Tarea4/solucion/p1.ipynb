{
 "cells": [
  {
   "cell_type": "markdown",
   "id": "232f4f28",
   "metadata": {},
   "source": [
    "# Tarea 4\n",
    "En esta tarea usted deberá completar el siguiente notebook, en el cual va a implementar el protocolo de firmas de anillo sobre grupos en general. Debe completar exclusivamente las partes marcadas con `##### POR COMPLETAR`."
   ]
  },
  {
   "cell_type": "markdown",
   "id": "9d9590d6-9ec6-4f5e-b1d2-b0776446851e",
   "metadata": {},
   "source": [
    "## Funciones auxiliares\n",
    "Necesitaremos un test de primalidad para revisar que no nos estén engañando cuando nos entreguen los parámetros del grupo."
   ]
  },
  {
   "cell_type": "code",
   "execution_count": 2,
   "id": "87aaa8dd-1e50-4a28-88a2-950b7c4d7227",
   "metadata": {},
   "outputs": [],
   "source": [
    "import random\n",
    "\n",
    "def _is_natural_power(n):\n",
    "    # Para cada posible exponente, hacemos búsqueda binaria de la base\n",
    "    search_exponent = 2\n",
    "    \n",
    "    # Optimiazación: si n no es a ^ k no puede ser a ^ (kr) para ningún\n",
    "    # r, por lo que sólo probamos con exponentes primos\n",
    "    avoid_exponents = set()\n",
    "    \n",
    "    while pow(2, search_exponent) <= n:\n",
    "        \n",
    "        if search_exponent not in avoid_exponents:\n",
    "            # Usamos búsqueda binaria \"creciente\" para definir el intervalo\n",
    "            # inicial\n",
    "            search_start = 2\n",
    "            i = 2\n",
    "            while search_start ** search_exponent < n:\n",
    "                search_start *= 2\n",
    "                avoid_exponents.add(search_exponent * i)\n",
    "                i += 1\n",
    "                \n",
    "            upper = search_start\n",
    "            lower = search_start // 2\n",
    "\n",
    "            # Búsqueda binaria\n",
    "            while lower != upper:\n",
    "                mid = (upper + lower) // 2\n",
    "                result = pow(mid, search_exponent)\n",
    "                if result < n:\n",
    "                    lower = mid + 1\n",
    "                elif result > n:\n",
    "                    upper = mid\n",
    "                else:\n",
    "                    return True\n",
    "\n",
    "            # Caso borde en que upper ^ search_exponent era justo n\n",
    "            if pow(upper, search_exponent) == n:\n",
    "                return True\n",
    "            \n",
    "        search_exponent += 1\n",
    "    \n",
    "    return False"
   ]
  },
  {
   "cell_type": "code",
   "execution_count": 3,
   "id": "f8c3290e-0033-460f-8894-3d988a9d7b27",
   "metadata": {},
   "outputs": [],
   "source": [
    "def _extended_euclid(a, b):\n",
    "    if a > b:\n",
    "        return _extended_euclid_base(a, b)\n",
    "    return _extended_euclid_base(b, a)\n",
    "\n",
    "def _extended_euclid_base(a, b):\n",
    "    prev_r, r = a, b\n",
    "    prev_s, s = 1, 0\n",
    "    prev_t, t = 0, 1\n",
    "\n",
    "    while r != 0:\n",
    "        q = prev_r // r\n",
    "        prev_r, r = r, prev_r % r\n",
    "        prev_s, s = s, prev_s - q * s\n",
    "        prev_t, t = t, prev_t - q * t\n",
    "\n",
    "    return prev_r, prev_s, prev_t"
   ]
  },
  {
   "cell_type": "code",
   "execution_count": 4,
   "id": "b74ee674-87a8-4c5b-bc14-9a35cce79002",
   "metadata": {},
   "outputs": [],
   "source": [
    "def is_probably_prime(n, iterations=100):\n",
    "    if n == 2:\n",
    "        return True\n",
    "    if n % 2 == 0 or n == 1:\n",
    "        return False\n",
    "    if _is_natural_power(n):\n",
    "        return False\n",
    "    \n",
    "    found_negative = False\n",
    "    for i in range(iterations):\n",
    "        a = random.randint(1, n - 1)\n",
    "        if _extended_euclid(a, n)[0] > 1:\n",
    "            return False\n",
    "        b = pow(a, (n - 1) // 2, n)\n",
    "        if b == n - 1:\n",
    "            found_negative = True\n",
    "        elif b != 1:\n",
    "            return False\n",
    "    \n",
    "    return found_negative"
   ]
  },
  {
   "cell_type": "markdown",
   "id": "bbc79be1-7ead-44ac-ba59-d07e49062f8b",
   "metadata": {},
   "source": [
    "## Un primer grupo\n",
    "Como un primer ejemplo de grupo, consideramos a los grupos Z<sub>p</sub><sup>\\*</sup> vistos en clases. En particular, definimos la clase `ZpStar` cuyas instancias son estos grupos. Para representar a los elementos dentro de Z<sub>p</sub><sup>\\*</sup>, en su constructor se crea dinámicamente la clase `Element`."
   ]
  },
  {
   "cell_type": "code",
   "execution_count": 5,
   "id": "b09a7361-e303-44b9-9e96-962a03265b83",
   "metadata": {},
   "outputs": [],
   "source": [
    "class ZpStar:\n",
    "    \n",
    "    def __init__(self, p):\n",
    "        if not is_probably_prime(p):\n",
    "            raise Exception(f\"p={p} is not a prime number\")\n",
    "        class Element:\n",
    "            def __init__(self, value):\n",
    "                if value < 1 or value > p-1:\n",
    "                    raise Exception(f\"value={value} is not in the range 1,...,{p-1}\")\n",
    "                self.value = value\n",
    "\n",
    "            # Allows to compare elements with ==\n",
    "            def __eq__(self, other_element):\n",
    "                return self.value == other_element.value\n",
    "\n",
    "            # Allows to operate elements with *\n",
    "            def __mul__(self, other_element):\n",
    "                return Element((self.value * other_element.value) % p)\n",
    "\n",
    "            # Allows to use ** as exponentiation\n",
    "            def __pow__(self, exponent):\n",
    "                return Element(pow(self.value, exponent, p))\n",
    "\n",
    "            # Allows to use str(e) to transform an element into a string\n",
    "            def __str__(self):\n",
    "                return str(self.value)\n",
    "\n",
    "        self.element_class = Element\n",
    "                \n",
    "    def get_identity(self):\n",
    "        return self.get_element(1)\n",
    "    \n",
    "    def get_element(self, n):\n",
    "        return self.element_class(n)"
   ]
  },
  {
   "cell_type": "markdown",
   "id": "4e70486b-d2e0-4f68-9ced-bd03a2df8095",
   "metadata": {},
   "source": [
    "Ahora vamos a definir una clase que inicializa a los participantes del anillo. Cada participante es una instancia de la clase `Signer` que será definida más adelante. De la misma forma que para la clase `ZpStar`, su implementación del constructor de la clase `RingSetup` debe generar excepciones si los parámetros entregados no son correctos (puede suponer que los tipos de estos parámetros siempre van a ser los correctos). Por ejemplo, si `subgroup_order` no es un número primo, entonces se debe generar una excepción (puede suponer que el valor entregado en `subgroup_order` va a ser un número natural mayor o igual a 1)."
   ]
  },
  {
   "cell_type": "code",
   "execution_count": 6,
   "id": "733778db-6393-4d30-bf23-bf233be3933b",
   "metadata": {},
   "outputs": [],
   "source": [
    "import random\n",
    "\n",
    "class RingSetup:\n",
    "    def __init__(self, generator, subgroup_order, n_participants, group):\n",
    "        # Is the order of the generator correct? For this we check that\n",
    "        # 1. The subgroup order is prime\n",
    "        # 2. The generator to the power of subgroup_order is the identity\n",
    "        # 3. The generator is not the identity\n",
    "        ##### POR COMPLETAR\n",
    "        if not is_probably_prime(subgroup_order):\n",
    "            raise Exception(\"Subroup order is not prime, it's a trap!\")\n",
    "        if generator == group.get_identity():\n",
    "            raise Exception(\"The generator is the identity, it's a trap!\")\n",
    "        if generator ** subgroup_order != group.get_identity():\n",
    "            raise Exception(\"This is not the real order, it's a trap!\")\n",
    "    \n",
    "        # Generate a group of participants\n",
    "        self.participants = [\n",
    "            Signer(generator, subgroup_order) for _ in range(n_participants)\n",
    "        ]\n",
    "\n",
    "        # Store their public keys\n",
    "        self.public_keys = [x.get_public_key() for x in self.participants]\n",
    "\n",
    "    def get_public_keys(self):\n",
    "        return self.public_keys\n",
    "\n",
    "    def get_random_participant(self):\n",
    "        return random.choice(self.participants)"
   ]
  },
  {
   "cell_type": "markdown",
   "id": "7cbc7568-ab53-4d1c-b328-441a0ce0c2e6",
   "metadata": {},
   "source": [
    "Ahora definimos la clase `Signer`."
   ]
  },
  {
   "cell_type": "code",
   "execution_count": 7,
   "id": "6737494c-c736-4afc-840f-b6154000ac58",
   "metadata": {},
   "outputs": [],
   "source": [
    "from hashlib import sha256\n",
    "\n",
    "class Signer():\n",
    "    def __init__(self, generator, subgroup_order, secret_key, public_key):\n",
    "        self.generator = generator\n",
    "        self.subgroup_order = subgroup_order\n",
    "        self.secret_key = secret_key\n",
    "        self.public_key = public_key\n",
    "\n",
    "    def get_public_key(self):\n",
    "        return self.public_key\n",
    "\n",
    "    # Compute a ring signature for a message and a list of public keys\n",
    "    def generate_ring_signature(self, message, public_keys):\n",
    "        # Simplify notation\n",
    "        q = self.subgroup_order\n",
    "        g = self.generator\n",
    "        n = len(public_keys)\n",
    "\n",
    "        my_r = random.randint(1, q - 1)\n",
    "        print(f\"my r {my_r}\")\n",
    "        my_index = public_keys.index(self.public_key)\n",
    "\n",
    "        signatures = [0] * len(public_keys)\n",
    "        challenges = [0] * len(public_keys)\n",
    "        challenges[(my_index + 1) % n] = int.from_bytes(sha256((str(g ** my_r) + message).encode()).digest()) % q\n",
    "\n",
    "        for i in range(1, n):\n",
    "            index = (my_index + i) % n\n",
    "            signatures[index] = random.randint(1, q - 1)\n",
    "            R = g ** signatures[index] * public_keys[index] ** (q - challenges[(index)])\n",
    "            challenges[(index + 1) % n] = int.from_bytes(sha256((str(R) + message).encode()).digest()) % q\n",
    "\n",
    "        signatures[my_index] = (my_r + challenges[my_index] * self.secret_key) % q\n",
    "        print(f\"s_{my_index}: {signatures[my_index]}\")\n",
    "\n",
    "        random_index = random.randint(0, n - 1)\n",
    "        \n",
    "        return signatures, challenges[random_index], random_index"
   ]
  },
  {
   "cell_type": "code",
   "execution_count": 8,
   "id": "4ebef73d-283b-401b-bdcb-f047037284b5",
   "metadata": {},
   "outputs": [],
   "source": [
    "class Verifier:\n",
    "    def __init__(self, generator, subgroup_order):\n",
    "        self.generator = generator\n",
    "        self.subgroup_order = subgroup_order\n",
    "\n",
    "    def verify_ring_signature(self, public_keys, message, signatures, challenge, challenge_index):\n",
    "        # Verify a ring signature\n",
    "        # simplify notation\n",
    "        q = self.subgroup_order\n",
    "        g = self.generator\n",
    "        n = len(public_keys)\n",
    "        current_challenge = challenge\n",
    "\n",
    "        for i in range(1, n + 1):\n",
    "            index = (challenge_index + i) % n\n",
    "            prev = (index - 1) % n\n",
    "            R = g ** signatures[prev] * public_keys[prev] ** (q - current_challenge) \n",
    "            current_challenge = int.from_bytes(sha256((str(R) + message).encode()).digest()) % q\n",
    "\n",
    "\n",
    "        return challenge == current_challenge"
   ]
  },
  {
   "cell_type": "code",
   "execution_count": 19,
   "id": "3e889644",
   "metadata": {},
   "outputs": [
    {
     "name": "stdout",
     "output_type": "stream",
     "text": [
      "Message:             Si alguien descubre quien firmo este mensaje tiene un 7 final en el curso, en serio!\n",
      "451021976850407374189567941850253632832341858059333460507329186590160411002200724775462299270663349073503028155952999262245547696667463103512291305242989212244654744832059829307256488654088727798799984062395882279725695733455785612762340460098902293909288452525222917393787515205286253725415895459822581687336870503266359615990943848396702701110926673330882823891515134181306090859074644386354656283735128016198692630243944395958714611280645475903316955705310562351027632522484236560041565456362325799470809520033853227483508038483257654782221740733957273386416481011739200540155352165580829227942419604433072927255\n",
      "my r 33872398055935947259725237309151987046562817587844289744814643484146586404110\n",
      "s_2: 54960665162849582844359114361107496473622288104074422163196737077268139173040\n",
      "37025695368633273351697133098655483698625234967861682960248535277794672549155,18428122407403955739529572759542430920452129750464922127812273292969331522787,54960665162849582844359114361107496473622288104074422163196737077268139173040,24336611265817090744254687696078744310976137345777694046037891675337974851227,21265200018952656421665896974437332960197327290743097260692906242962910584412,2\n",
      "Correct signature:   True\n",
      "Incorrect signature: False\n"
     ]
    }
   ],
   "source": [
    "if __name__ == \"__main__\":\n",
    "    p = 17125458317614137930196041979257577826408832324037508573393292981642667139747621778802438775238728592968344613589379932348475613503476932163166973813218698343816463289144185362912602522540494983090531497232965829536524507269848825658311420299335922295709743267508322525966773950394919257576842038771632742044142471053509850123605883815857162666917775193496157372656195558305727009891276006514000409365877218171388319923896309377791762590614311849642961380224851940460421710449368927252974870395873936387909672274883295377481008150475878590270591798350563488168080923804611822387520198054002990623911454389104774092183\n",
    "    generator = 8041367327046189302693984665026706374844608289874374425728797669509435881459140662650215832833471328470334064628508692231999401840332046192569287351991689963279656892562484773278584208040987631569628520464069532361274047374444344996651832979378318849943741662110395995778429270819222431610927356005913836932462099770076239554042855287138026806960470277326229482818003962004453764400995790974042663675692120758726145869061236443893509136147942414445551848162391468541444355707785697825741856849161233887307017428371823608125699892904960841221593344499088996021883972185241854777608212592397013510086894908468466292313\n",
    "    order = 63762351364972653564641699529205510489263266834182771617563631363277932854227\n",
    "\n",
    "    group = ZpStar(p)\n",
    "    g = group.get_element(generator)\n",
    "\n",
    "    \n",
    "    p0 = group.get_element(3023321843356641609024850187414150159940016123551412410956004775306007902209445074828510213524699300006518257045640971265884379649843078545839146013271177397854289310617244525030328818870605803495015296951026319700358217061371468803722294922510119740393445753660621444186639220804875431477820678065035574583985316778773739946335798885478136935033628369393364265223680328934665562780177568106290187090673859662611448678539857231494322154358023615796395892769458852147373472495589387082021243210756747854766726006554775319151353965543740685166644601351191797766603106670695258564926670603645225992140308137705033126071)\n",
    "    p1 = group.get_element(8672791744732106257696875242982937110288561412496602335410715863953744781693471649791448077284516383422850715536069265929500839549215939248764280245994145641975711320668871500305371166238843624591247878219996488751317419623558448680521304816807891773165691942540722787654377294579107889894284544979770483744445900229097591113386046934305938806324320443111671166581839057656982148084822748796947396126796217827130707284138366784451795320589327950829276191382665845774227480749384259469644124268871844432411985630722250124694920370161280576455377746614606658607260827970287637921831720467730481605710271073095225740930)\n",
    "    s2 = 22378796404047169028538460741634530254779024799681816607876638960720903797322\n",
    "    p2 = group.get_element(451021976850407374189567941850253632832341858059333460507329186590160411002200724775462299270663349073503028155952999262245547696667463103512291305242989212244654744832059829307256488654088727798799984062395882279725695733455785612762340460098902293909288452525222917393787515205286253725415895459822581687336870503266359615990943848396702701110926673330882823891515134181306090859074644386354656283735128016198692630243944395958714611280645475903316955705310562351027632522484236560041565456362325799470809520033853227483508038483257654782221740733957273386416481011739200540155352165580829227942419604433072927255)\n",
    "    p3 = group.get_element(1905870283543360857514965720297067393598468377530585869933588910917452387264450049223285552883053378010124792516898501166646024979806825126107612153256752532902906863217283089620083771357114359571006971774638699679043117407921880767054901775311688958497395480345353681070839587433336861913314346171687640810242444757125685328732189768198075806215610130076136025110485789859471116071285891833475348160812543921734323239336679699481119369117538656859047737087820927492610042333104169034702782539670248545945306530002202420079616488816269226329217715435554837972569259560026021594613045696772243511957950923662834825391)\n",
    "    ps = [p0, p1, p2, p3]\n",
    "\n",
    "    \n",
    "    signer = Signer(g, order, s2, p2)\n",
    "\n",
    "    \n",
    "    message = \"Si alguien descubre quien firmo este mensaje tiene un 7 final en el curso, en serio!\"\n",
    "    print(f\"Message:             {message}\")\n",
    "\n",
    "    print(signer.get_public_key())\n",
    "    signatures, challenge, challenge_index = signer.generate_ring_signature(message, ps)\n",
    "\n",
    "    print(f\"{signatures[0]},{signatures[1]},{signatures[2]},{signatures[3]},{challenge},{challenge_index}\")\n",
    "    \n",
    "    verifier = Verifier(g, order)\n",
    "    result = verifier.verify_ring_signature(ps, message, signatures, challenge, challenge_index)\n",
    "    print(f\"Correct signature:   {result}\")\n",
    "\n",
    "    signatures[0] = (signatures[0] - 1) % order\n",
    "    result = verifier.verify_ring_signature(ps, message, signatures, challenge, challenge_index)\n",
    "    print(f\"Incorrect signature: {result}\")"
   ]
  },
  {
   "cell_type": "code",
   "execution_count": null,
   "id": "1259ae29-2152-4872-9361-f239b1ce1d3f",
   "metadata": {},
   "outputs": [],
   "source": [
    "p0 = 3023321843356641609024850187414150159940016123551412410956004775306007902209445074828510213524699300006518257045640971265884379649843078545839146013271177397854289310617244525030328818870605803495015296951026319700358217061371468803722294922510119740393445753660621444186639220804875431477820678065035574583985316778773739946335798885478136935033628369393364265223680328934665562780177568106290187090673859662611448678539857231494322154358023615796395892769458852147373472495589387082021243210756747854766726006554775319151353965543740685166644601351191797766603106670695258564926670603645225992140308137705033126071\n",
    "p1 = 8672791744732106257696875242982937110288561412496602335410715863953744781693471649791448077284516383422850715536069265929500839549215939248764280245994145641975711320668871500305371166238843624591247878219996488751317419623558448680521304816807891773165691942540722787654377294579107889894284544979770483744445900229097591113386046934305938806324320443111671166581839057656982148084822748796947396126796217827130707284138366784451795320589327950829276191382665845774227480749384259469644124268871844432411985630722250124694920370161280576455377746614606658607260827970287637921831720467730481605710271073095225740930\n",
    "s2 = 22378796404047169028538460741634530254779024799681816607876638960720903797322\n",
    "p2 = 451021976850407374189567941850253632832341858059333460507329186590160411002200724775462299270663349073503028155952999262245547696667463103512291305242989212244654744832059829307256488654088727798799984062395882279725695733455785612762340460098902293909288452525222917393787515205286253725415895459822581687336870503266359615990943848396702701110926673330882823891515134181306090859074644386354656283735128016198692630243944395958714611280645475903316955705310562351027632522484236560041565456362325799470809520033853227483508038483257654782221740733957273386416481011739200540155352165580829227942419604433072927255\n",
    "p3 = 1905870283543360857514965720297067393598468377530585869933588910917452387264450049223285552883053378010124792516898501166646024979806825126107612153256752532902906863217283089620083771357114359571006971774638699679043117407921880767054901775311688958497395480345353681070839587433336861913314346171687640810242444757125685328732189768198075806215610130076136025110485789859471116071285891833475348160812543921734323239336679699481119369117538656859047737087820927492610042333104169034702782539670248545945306530002202420079616488816269226329217715435554837972569259560026021594613045696772243511957950923662834825391"
   ]
  },
  {
   "cell_type": "code",
   "execution_count": null,
   "id": "112fdcc0-a809-4135-bdb8-e50e6d24155c",
   "metadata": {},
   "outputs": [],
   "source": [
    "23130175073952556754837949876845820197049404380063539064453637992889583004254\n",
    "30446881779762775041349758758331369600764995183746592443873942047921812862627\n",
    "18916198306688353205824508700768735417381900159223013133982233692968254730442\n",
    "6541689303016971068849098764635247893948787040887572916511675324319824710555\n",
    "26919301156190709827156662787092856776498896743640633326610249827890755631379\n",
    "1"
   ]
  },
  {
   "cell_type": "code",
   "execution_count": 13,
   "id": "01abf2bd-5bb3-423f-8039-a99b059b32e8",
   "metadata": {},
   "outputs": [
    {
     "data": {
      "text/plain": [
       "3"
      ]
     },
     "execution_count": 13,
     "metadata": {},
     "output_type": "execute_result"
    }
   ],
   "source": [
    "52432898422521481681577426566927387630693273319562719668097951177255597574580\n",
    "45649543664860668268566458792958116727367744683321906546531126820777514993095\n",
    "54687556489214799228196750695867788821458430170257679021468454252258799531275\n",
    "52432898422521481681577426566927387630693273319562719668097951177255597574580\n",
    "33459699874035079242558807440412591889512889221698067918770290213523799953325\n",
    "22883181989394515251846417569176707189734623345137906909300553536973145988271\n",
    "3\n",
    "\n"
   ]
  },
  {
   "cell_type": "code",
   "execution_count": null,
   "id": "2c019edb-e5de-4ea2-8035-a06fda226bf3",
   "metadata": {},
   "outputs": [],
   "source": []
  },
  {
   "cell_type": "code",
   "execution_count": null,
   "id": "353f86ff-dc7e-40c8-bb0b-f224199c99d2",
   "metadata": {},
   "outputs": [],
   "source": []
  },
  {
   "cell_type": "code",
   "execution_count": null,
   "id": "8be9b982-a8ff-421e-88b0-d50a973589e4",
   "metadata": {},
   "outputs": [],
   "source": []
  },
  {
   "cell_type": "code",
   "execution_count": null,
   "id": "081cdcd7-9bd0-4069-919a-7ada273de16e",
   "metadata": {},
   "outputs": [],
   "source": []
  },
  {
   "cell_type": "code",
   "execution_count": null,
   "id": "7bb190c9-e48a-4b83-bbcc-b052ed97c88c",
   "metadata": {},
   "outputs": [],
   "source": []
  }
 ],
 "metadata": {
  "kernelspec": {
   "display_name": "Python 3 (ipykernel)",
   "language": "python",
   "name": "python3"
  },
  "language_info": {
   "codemirror_mode": {
    "name": "ipython",
    "version": 3
   },
   "file_extension": ".py",
   "mimetype": "text/x-python",
   "name": "python",
   "nbconvert_exporter": "python",
   "pygments_lexer": "ipython3",
   "version": "3.13.1"
  }
 },
 "nbformat": 4,
 "nbformat_minor": 5
}
